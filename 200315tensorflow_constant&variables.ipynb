{
  "nbformat": 4,
  "nbformat_minor": 0,
  "metadata": {
    "colab": {
      "name": "200315tensorflow_constant&variables",
      "provenance": [],
      "collapsed_sections": [],
      "authorship_tag": "ABX9TyNe2FELeZVrQQXcgfcGwBuB",
      "include_colab_link": true
    },
    "kernelspec": {
      "name": "python3",
      "display_name": "Python 3"
    }
  },
  "cells": [
    {
      "cell_type": "markdown",
      "metadata": {
        "id": "view-in-github",
        "colab_type": "text"
      },
      "source": [
        "<a href=\"https://colab.research.google.com/github/hm06063/hihi/blob/master/200315tensorflow_constant%26variables.ipynb\" target=\"_parent\"><img src=\"https://colab.research.google.com/assets/colab-badge.svg\" alt=\"Open In Colab\"/></a>"
      ]
    },
    {
      "cell_type": "code",
      "metadata": {
        "id": "Zzvyn1PIoc_f",
        "colab_type": "code",
        "outputId": "66963b36-9d75-41aa-aa2d-4558da073055",
        "colab": {
          "base_uri": "https://localhost:8080/",
          "height": 34
        }
      },
      "source": [
        "import tensorflow as tf\n",
        "a = tf.constant(1) #상수 정의 - 1이라는 원소를 갖는 배열을 a에 저장\n",
        "b = tf.constant(2)\n",
        "c = tf.add(a,b) #식만 정의\n",
        "sess = tf.Session() #tensorflow 실행 위한 객체 생성!\n",
        "sess.run(c) #tensorflow 실행! not print(c)~!\n"
      ],
      "execution_count": 0,
      "outputs": [
        {
          "output_type": "execute_result",
          "data": {
            "text/plain": [
              "3"
            ]
          },
          "metadata": {
            "tags": []
          },
          "execution_count": 2
        }
      ]
    },
    {
      "cell_type": "markdown",
      "metadata": {
        "id": "wWDqxr-Aq6nJ",
        "colab_type": "text"
      },
      "source": [
        "텐서플로우는 테서와 플로우를 적절히 사용하는 기술로, 플로우 그래프와 같이 프로그램이 구성된다.\n",
        "=> 프로그램의 동작은 세션의 생성하여 동작시키는 방식으로 작동!"
      ]
    },
    {
      "cell_type": "code",
      "metadata": {
        "id": "q0MZPNpcrEHl",
        "colab_type": "code",
        "outputId": "2385dca5-22f7-4e8c-b4a6-54efbfad9a3d",
        "colab": {
          "base_uri": "https://localhost:8080/",
          "height": 34
        }
      },
      "source": [
        "a = tf.Variable(5) #5라는 숫자로 초기화된 변수 생성해서 a에 저장\n",
        "b = tf.Variable(3)\n",
        "c = tf.multiply(a,b)\n",
        "init = tf.global_variables_initializer() \n",
        "#텐서플로우에서 변수 생성시 global_variables_initializer를 넣어줘야함.\n",
        "#변수를 텐서플로우에 적용할 수 있는 형태로 초기화!\n",
        "sess.run(init) #sess.run()함수로 init함수 실행\n",
        "sess.run(c)"
      ],
      "execution_count": 0,
      "outputs": [
        {
          "output_type": "execute_result",
          "data": {
            "text/plain": [
              "15"
            ]
          },
          "metadata": {
            "tags": []
          },
          "execution_count": 3
        }
      ]
    },
    {
      "cell_type": "code",
      "metadata": {
        "id": "kt0_ju6isHqk",
        "colab_type": "code",
        "outputId": "f4193269-15c6-4cc4-d625-f261799acb21",
        "colab": {
          "base_uri": "https://localhost:8080/",
          "height": 34
        }
      },
      "source": [
        "a = tf.Variable(15)\n",
        "sess.run(c)"
      ],
      "execution_count": 0,
      "outputs": [
        {
          "output_type": "execute_result",
          "data": {
            "text/plain": [
              "15"
            ]
          },
          "metadata": {
            "tags": []
          },
          "execution_count": 4
        }
      ]
    },
    {
      "cell_type": "code",
      "metadata": {
        "id": "mPYial_8sNUi",
        "colab_type": "code",
        "outputId": "d96b7716-b007-4e49-fa64-017e2e8b142f",
        "colab": {
          "base_uri": "https://localhost:8080/",
          "height": 34
        }
      },
      "source": [
        "a=tf.Variable(15)\n",
        "c = tf.multiply(a,b)\n",
        "init = tf.global_variables_initializer() #변수다시 바꾸면 또 이 함수 써줘야함!!\n",
        "sess.run(init)\n",
        "sess.run(c)"
      ],
      "execution_count": 0,
      "outputs": [
        {
          "output_type": "execute_result",
          "data": {
            "text/plain": [
              "45"
            ]
          },
          "metadata": {
            "tags": []
          },
          "execution_count": 6
        }
      ]
    }
  ]
}