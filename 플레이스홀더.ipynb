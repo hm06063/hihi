{
  "nbformat": 4,
  "nbformat_minor": 0,
  "metadata": {
    "colab": {
      "name": "플레이스홀더.ipynb",
      "provenance": [],
      "authorship_tag": "ABX9TyO6ADw7vlrYXdfXvTsarrU7",
      "include_colab_link": true
    },
    "kernelspec": {
      "name": "python3",
      "display_name": "Python 3"
    }
  },
  "cells": [
    {
      "cell_type": "markdown",
      "metadata": {
        "id": "view-in-github",
        "colab_type": "text"
      },
      "source": [
        "<a href=\"https://colab.research.google.com/github/hm06063/hihi/blob/master/%ED%94%8C%EB%A0%88%EC%9D%B4%EC%8A%A4%ED%99%80%EB%8D%94.ipynb\" target=\"_parent\"><img src=\"https://colab.research.google.com/assets/colab-badge.svg\" alt=\"Open In Colab\"/></a>"
      ]
    },
    {
      "cell_type": "code",
      "metadata": {
        "id": "C04zq7QMsm4N",
        "colab_type": "code",
        "outputId": "39c2f9ff-d608-49f0-808d-ef31ac2488d7",
        "colab": {
          "base_uri": "https://localhost:8080/",
          "height": 98
        }
      },
      "source": [
        "import tensorflow as tf\n",
        "#tf.placeholder(data type, name)\n",
        "input = [1,2,3,4,5]\n",
        "x = tf.placeholder(dtype = tf.float32)\n",
        "y = x + 5\n",
        "sess= tf.Session()\n",
        "sess.run(y,feed_dict={x:input})\n",
        " #y라는 수식을 실행시킬 건데, x를 input으로 초기화해서 실행"
      ],
      "execution_count": 0,
      "outputs": [
        {
          "output_type": "display_data",
          "data": {
            "text/html": [
              "<p style=\"color: red;\">\n",
              "The default version of TensorFlow in Colab will soon switch to TensorFlow 2.x.<br>\n",
              "We recommend you <a href=\"https://www.tensorflow.org/guide/migrate\" target=\"_blank\">upgrade</a> now \n",
              "or ensure your notebook will continue to use TensorFlow 1.x via the <code>%tensorflow_version 1.x</code> magic:\n",
              "<a href=\"https://colab.research.google.com/notebooks/tensorflow_version.ipynb\" target=\"_blank\">more info</a>.</p>\n"
            ],
            "text/plain": [
              "<IPython.core.display.HTML object>"
            ]
          },
          "metadata": {
            "tags": []
          }
        },
        {
          "output_type": "execute_result",
          "data": {
            "text/plain": [
              "array([ 6.,  7.,  8.,  9., 10.], dtype=float32)"
            ]
          },
          "metadata": {
            "tags": []
          },
          "execution_count": 1
        }
      ]
    },
    {
      "cell_type": "code",
      "metadata": {
        "id": "GARFPfKvt0NP",
        "colab_type": "code",
        "outputId": "f995f21d-3d46-4984-a50d-a350d004260c",
        "colab": {
          "base_uri": "https://localhost:8080/",
          "height": 34
        }
      },
      "source": [
        "mathScore = [85,99,97,92,100]\n",
        "englishScore = [59,80,84,68,88]\n",
        "a = tf.placeholder(dtype=tf.float32)\n",
        "b = tf.placeholder(dtype=tf.float32)\n",
        "y = (a+b)/2\n",
        "sess.run(y,feed_dict={a: mathScore,b: englishScore})"
      ],
      "execution_count": 0,
      "outputs": [
        {
          "output_type": "execute_result",
          "data": {
            "text/plain": [
              "array([72. , 89.5, 90.5, 80. , 94. ], dtype=float32)"
            ]
          },
          "metadata": {
            "tags": []
          },
          "execution_count": 7
        }
      ]
    },
    {
      "cell_type": "markdown",
      "metadata": {
        "id": "b1J2RKZzsq7U",
        "colab_type": "text"
      },
      "source": [
        "플레이스 홀더 : 다른 텐서를 할당하기 위해 사용!\n",
        "\n",
        "실제로 값을 할당할 때는 피딩(Feeding) 사용.\n",
        "텐서 자체가 다차원 배열 형태여서 플레이스 홀더로 사용할 값 또한 배열이 들어갈 수 있음.\n",
        "\n",
        "=> 플레이스 홀더는 학습 data를 포함하는 변수.\n",
        "즉, y  = x + 5에서 x가 플레이스 홀더가 됨."
      ]
    }
  ]
}