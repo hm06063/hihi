{
  "nbformat": 4,
  "nbformat_minor": 0,
  "metadata": {
    "colab": {
      "name": "tensorflow주요함수.ipynb",
      "provenance": [],
      "authorship_tag": "ABX9TyNueH2J3klnFXrFIfC/fhS2",
      "include_colab_link": true
    },
    "kernelspec": {
      "name": "python3",
      "display_name": "Python 3"
    }
  },
  "cells": [
    {
      "cell_type": "markdown",
      "metadata": {
        "id": "view-in-github",
        "colab_type": "text"
      },
      "source": [
        "<a href=\"https://colab.research.google.com/github/hm06063/hihi/blob/master/tensorflow%EC%A3%BC%EC%9A%94%ED%95%A8%EC%88%98.ipynb\" target=\"_parent\"><img src=\"https://colab.research.google.com/assets/colab-badge.svg\" alt=\"Open In Colab\"/></a>"
      ]
    },
    {
      "cell_type": "markdown",
      "metadata": {
        "id": "umaDTaPbzxgh",
        "colab_type": "text"
      },
      "source": [
        "cf))\n",
        "Session이란 실제로 값을 대입한 그래프가 동작하도록 하는 역할을 수행하는 것"
      ]
    },
    {
      "cell_type": "code",
      "metadata": {
        "id": "nxo8cyQPvZJw",
        "colab_type": "code",
        "outputId": "171718d5-9d8c-4b05-b7a6-b9832d18924b",
        "colab": {
          "base_uri": "https://localhost:8080/",
          "height": 80
        }
      },
      "source": [
        "import tensorflow as tf\n",
        "a = tf.constant(17)\n",
        "b = tf.constant(5)"
      ],
      "execution_count": 0,
      "outputs": [
        {
          "output_type": "display_data",
          "data": {
            "text/html": [
              "<p style=\"color: red;\">\n",
              "The default version of TensorFlow in Colab will soon switch to TensorFlow 2.x.<br>\n",
              "We recommend you <a href=\"https://www.tensorflow.org/guide/migrate\" target=\"_blank\">upgrade</a> now \n",
              "or ensure your notebook will continue to use TensorFlow 1.x via the <code>%tensorflow_version 1.x</code> magic:\n",
              "<a href=\"https://colab.research.google.com/notebooks/tensorflow_version.ipynb\" target=\"_blank\">more info</a>.</p>\n"
            ],
            "text/plain": [
              "<IPython.core.display.HTML object>"
            ]
          },
          "metadata": {
            "tags": []
          }
        }
      ]
    },
    {
      "cell_type": "code",
      "metadata": {
        "id": "lotxST1bvyZh",
        "colab_type": "code",
        "outputId": "2a306afc-171d-4819-843f-e7bbaf5a12fe",
        "colab": {
          "base_uri": "https://localhost:8080/",
          "height": 34
        }
      },
      "source": [
        "c = tf.add(a,b)\n",
        "sess = tf.Session()\n",
        "sess.run(c)\n"
      ],
      "execution_count": 0,
      "outputs": [
        {
          "output_type": "execute_result",
          "data": {
            "text/plain": [
              "22"
            ]
          },
          "metadata": {
            "tags": []
          },
          "execution_count": 4
        }
      ]
    },
    {
      "cell_type": "code",
      "metadata": {
        "id": "rZfdAFacv_jY",
        "colab_type": "code",
        "outputId": "228c944e-12ea-4f8c-86b4-f16f433ce8f8",
        "colab": {
          "base_uri": "https://localhost:8080/",
          "height": 34
        }
      },
      "source": [
        "c= tf.subtract(a,b)\n",
        "sess.run(c)"
      ],
      "execution_count": 0,
      "outputs": [
        {
          "output_type": "execute_result",
          "data": {
            "text/plain": [
              "12"
            ]
          },
          "metadata": {
            "tags": []
          },
          "execution_count": 5
        }
      ]
    },
    {
      "cell_type": "markdown",
      "metadata": {
        "id": "9azamJwGvdte",
        "colab_type": "text"
      },
      "source": [
        "대표 함수들\n",
        ": add subtract multiply truediv(나눗셈 몫)\n",
        "mod(나눗셈 나머지) abs(절대값)"
      ]
    },
    {
      "cell_type": "code",
      "metadata": {
        "id": "bamdGlFfwO6c",
        "colab_type": "code",
        "colab": {}
      },
      "source": [
        "a = tf.constant(17.5)\n",
        "b = tf.constant(5.0)"
      ],
      "execution_count": 0,
      "outputs": []
    },
    {
      "cell_type": "code",
      "metadata": {
        "id": "243mM97nwPHO",
        "colab_type": "code",
        "outputId": "2978530b-4e43-4899-a00e-0aa136014702",
        "colab": {
          "base_uri": "https://localhost:8080/",
          "height": 34
        }
      },
      "source": [
        "c = tf.negative(a)\n",
        "sess.run(c)"
      ],
      "execution_count": 0,
      "outputs": [
        {
          "output_type": "execute_result",
          "data": {
            "text/plain": [
              "-17.5"
            ]
          },
          "metadata": {
            "tags": []
          },
          "execution_count": 8
        }
      ]
    },
    {
      "cell_type": "code",
      "metadata": {
        "id": "25KLG8AqwPLB",
        "colab_type": "code",
        "outputId": "29e5d642-892f-4e37-a17c-1972fe658b15",
        "colab": {
          "base_uri": "https://localhost:8080/",
          "height": 34
        }
      },
      "source": [
        "c = tf.sign(a)\n",
        "sess.run(c)"
      ],
      "execution_count": 0,
      "outputs": [
        {
          "output_type": "execute_result",
          "data": {
            "text/plain": [
              "1.0"
            ]
          },
          "metadata": {
            "tags": []
          },
          "execution_count": 9
        }
      ]
    },
    {
      "cell_type": "code",
      "metadata": {
        "id": "Buk1VJmTwv2G",
        "colab_type": "code",
        "colab": {}
      },
      "source": [
        "c = tf.square(a)\n",
        "sess.run(c)"
      ],
      "execution_count": 0,
      "outputs": []
    },
    {
      "cell_type": "code",
      "metadata": {
        "id": "Li0zD1HHwylM",
        "colab_type": "code",
        "outputId": "c94eda14-ae5e-4456-8555-7fc05f560c44",
        "colab": {
          "base_uri": "https://localhost:8080/",
          "height": 34
        }
      },
      "source": [
        "c = tf.pow(a,4)\n",
        "sess.run(c)"
      ],
      "execution_count": 0,
      "outputs": [
        {
          "output_type": "execute_result",
          "data": {
            "text/plain": [
              "93789.06"
            ]
          },
          "metadata": {
            "tags": []
          },
          "execution_count": 11
        }
      ]
    },
    {
      "cell_type": "code",
      "metadata": {
        "id": "P_6LohAjw4VR",
        "colab_type": "code",
        "outputId": "5c17d389-2456-4ffb-a5b0-1e4e9c5188e5",
        "colab": {
          "base_uri": "https://localhost:8080/",
          "height": 34
        }
      },
      "source": [
        "c = tf.maximum(a,b)\n",
        "sess.run(c)"
      ],
      "execution_count": 0,
      "outputs": [
        {
          "output_type": "execute_result",
          "data": {
            "text/plain": [
              "17.5"
            ]
          },
          "metadata": {
            "tags": []
          },
          "execution_count": 12
        }
      ]
    },
    {
      "cell_type": "code",
      "metadata": {
        "id": "Pee9OskPw7oY",
        "colab_type": "code",
        "outputId": "1b001482-fe93-4366-fd5d-d87cc274531c",
        "colab": {
          "base_uri": "https://localhost:8080/",
          "height": 34
        }
      },
      "source": [
        "c = tf.exp(b)\n",
        "sess.run(c)"
      ],
      "execution_count": 0,
      "outputs": [
        {
          "output_type": "execute_result",
          "data": {
            "text/plain": [
              "148.41316"
            ]
          },
          "metadata": {
            "tags": []
          },
          "execution_count": 13
        }
      ]
    },
    {
      "cell_type": "code",
      "metadata": {
        "id": "6rtww6--xEWc",
        "colab_type": "code",
        "outputId": "78b30065-c16a-4d27-98fa-544df36be9c9",
        "colab": {
          "base_uri": "https://localhost:8080/",
          "height": 34
        }
      },
      "source": [
        "c = tf.sin(b)\n",
        "sess.run(c)"
      ],
      "execution_count": 0,
      "outputs": [
        {
          "output_type": "execute_result",
          "data": {
            "text/plain": [
              "-0.9589243"
            ]
          },
          "metadata": {
            "tags": []
          },
          "execution_count": 15
        }
      ]
    },
    {
      "cell_type": "markdown",
      "metadata": {
        "id": "8Xqu-XJrwPqt",
        "colab_type": "text"
      },
      "source": [
        "추가 자주 쓰는 함수들:\n",
        "negative(음수반환) sign(부호 반환) square(제곱) sqrt(제곱근) pow(거듭제곱) maiximum minimum(최소값 반환) exp(지수값 계산) log cos sin"
      ]
    }
  ]
}